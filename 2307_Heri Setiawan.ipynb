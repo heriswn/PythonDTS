{
 "cells": [
  {
   "cell_type": "code",
   "execution_count": 1,
   "metadata": {},
   "outputs": [],
   "source": [
    "# import the necessary packages \n",
    "from sklearn.neighbors import KNeighborsClassifier \n",
    "from sklearn.naive_bayes import GaussianNB \n",
    "from sklearn.linear_model import LogisticRegression \n",
    "from sklearn.svm import SVC \n",
    "from sklearn.tree import DecisionTreeClassifier \n",
    "from sklearn.ensemble import RandomForestClassifier \n",
    "from sklearn.model_selection import train_test_split \n",
    "from sklearn.metrics import classification_report \n",
    "from sklearn.datasets import load_iris"
   ]
  },
  {
   "cell_type": "code",
   "execution_count": 2,
   "metadata": {},
   "outputs": [],
   "source": [
    "# define the dictionary of models our script can use \n",
    "# the key to the dictionary is the name of the model \n",
    "# (supplied via command line argument) and the value is the model itself \n",
    "models = { \n",
    "    \"knn\": KNeighborsClassifier(n_neighbors=1), \n",
    "    \"naive_bayes\": GaussianNB(), \n",
    "    \"logit\": LogisticRegression(solver=\"lbfgs\", multi_class=\"auto\"), \n",
    "    \"svm\": SVC(kernel=\"rbf\", gamma=\"auto\"), \n",
    "    \"decision_tree\": DecisionTreeClassifier(), \n",
    "    \"random_forest\": RandomForestClassifier(n_estimators=100), \n",
    "}"
   ]
  },
  {
   "cell_type": "code",
   "execution_count": 3,
   "metadata": {},
   "outputs": [
    {
     "name": "stdout",
     "output_type": "stream",
     "text": [
      "[INFO] loading data...\n"
     ]
    }
   ],
   "source": [
    "# load the Iris dataset and perform a training and testing split \n",
    "# using 75% of the data for training and 25% for evaluation \n",
    "print(\"[INFO] loading data...\") \n",
    "dataset = load_iris() \n",
    "(trainX, testX, trainY, testY) = train_test_split(dataset.data, dataset.target, random_state=3, test_size=0.25)\n"
   ]
  },
  {
   "cell_type": "code",
   "execution_count": 4,
   "metadata": {},
   "outputs": [
    {
     "name": "stdout",
     "output_type": "stream",
     "text": [
      "[INFO] evaluating...\n",
      "              precision    recall  f1-score   support\n",
      "\n",
      "      setosa       1.00      1.00      1.00        15\n",
      "  versicolor       1.00      0.92      0.96        12\n",
      "   virginica       0.92      1.00      0.96        11\n",
      "\n",
      "    accuracy                           0.97        38\n",
      "   macro avg       0.97      0.97      0.97        38\n",
      "weighted avg       0.98      0.97      0.97        38\n",
      "\n"
     ]
    }
   ],
   "source": [
    "# train the modelprint(\"[INFO] using '{}' model\".format(model_name)) \n",
    "model = models['decision_tree'] \n",
    "model.fit(trainX, trainY)\n",
    "# make predictions on our data and show a classification report \n",
    "print(\"[INFO] evaluating...\") \n",
    "predictions = model.predict(testX) \n",
    "print(classification_report(testY, predictions, target_names=dataset.target_names))"
   ]
  },
  {
   "cell_type": "code",
   "execution_count": 5,
   "metadata": {},
   "outputs": [
    {
     "name": "stdout",
     "output_type": "stream",
     "text": [
      "[INFO] using 'knn' model\n",
      "[INFO] evaluating...\n",
      "              precision    recall  f1-score   support\n",
      "\n",
      "      setosa       1.00      1.00      1.00        15\n",
      "  versicolor       0.92      0.92      0.92        12\n",
      "   virginica       0.91      0.91      0.91        11\n",
      "\n",
      "    accuracy                           0.95        38\n",
      "   macro avg       0.94      0.94      0.94        38\n",
      "weighted avg       0.95      0.95      0.95        38\n",
      "\n"
     ]
    }
   ],
   "source": [
    "# train the KNN model \n",
    "print(\"[INFO] using '{}' model\".format(\"knn\")) \n",
    "model = models[\"knn\"] \n",
    "model.fit(trainX, trainY)\n",
    "      \n",
    "# make predictions on our data and show a classification report \n",
    "print(\"[INFO] evaluating...\") \n",
    "predictions = model.predict(testX) \n",
    "print(classification_report(testY, predictions, target_names=dataset.target_names))"
   ]
  },
  {
   "cell_type": "code",
   "execution_count": 6,
   "metadata": {},
   "outputs": [],
   "source": [
    "from sklearn.datasets import load_wine"
   ]
  },
  {
   "cell_type": "code",
   "execution_count": 7,
   "metadata": {},
   "outputs": [],
   "source": [
    "# define the dictionary of models our script can use \n",
    "# the key to the dictionary is the name of the model \n",
    "# (supplied via command line argument) and the value is the model itself \n",
    "models = { \n",
    "    \"knn\": KNeighborsClassifier(n_neighbors=1), \n",
    "    \"naive_bayes\": GaussianNB(), \n",
    "    \"logit\": LogisticRegression(solver=\"lbfgs\", multi_class=\"auto\"), \n",
    "    \"svm\": SVC(kernel=\"rbf\", gamma=\"auto\"), \n",
    "    \"decision_tree\": DecisionTreeClassifier(), \n",
    "    \"random_forest\": RandomForestClassifier(n_estimators=100), \n",
    "}"
   ]
  },
  {
   "cell_type": "code",
   "execution_count": 8,
   "metadata": {},
   "outputs": [
    {
     "name": "stdout",
     "output_type": "stream",
     "text": [
      "[INFO] loading data...\n"
     ]
    }
   ],
   "source": [
    "# load the Iris dataset and perform a training and testing split \n",
    "# using 75% of the data for training and 25% for evaluation \n",
    "print(\"[INFO] loading data...\") \n",
    "dataset = load_wine() \n",
    "(trainX, testX, trainY, testY) = train_test_split(dataset.data, dataset.target, random_state=3, test_size=0.25)\n"
   ]
  },
  {
   "cell_type": "code",
   "execution_count": 9,
   "metadata": {},
   "outputs": [
    {
     "name": "stdout",
     "output_type": "stream",
     "text": [
      "[INFO] evaluating...\n",
      "              precision    recall  f1-score   support\n",
      "\n",
      "     class_0       0.88      0.83      0.86        18\n",
      "     class_1       0.79      0.83      0.81        18\n",
      "     class_2       0.89      0.89      0.89         9\n",
      "\n",
      "    accuracy                           0.84        45\n",
      "   macro avg       0.85      0.85      0.85        45\n",
      "weighted avg       0.85      0.84      0.84        45\n",
      "\n"
     ]
    }
   ],
   "source": [
    "# train the modelprint(\"[INFO] using '{}' model\".format(model_name)) \n",
    "model = models['decision_tree'] \n",
    "model.fit(trainX, trainY)\n",
    "# make predictions on our data and show a classification report \n",
    "print(\"[INFO] evaluating...\") \n",
    "predictions = model.predict(testX) \n",
    "print(classification_report(testY, predictions, target_names=dataset.target_names))"
   ]
  },
  {
   "cell_type": "code",
   "execution_count": 14,
   "metadata": {},
   "outputs": [
    {
     "name": "stdout",
     "output_type": "stream",
     "text": [
      "[INFO] evaluating...\n",
      "              precision    recall  f1-score   support\n",
      "\n",
      "     class_0       1.00      0.94      0.97        18\n",
      "     class_1       0.94      0.94      0.94        18\n",
      "     class_2       0.90      1.00      0.95         9\n",
      "\n",
      "    accuracy                           0.96        45\n",
      "   macro avg       0.95      0.96      0.95        45\n",
      "weighted avg       0.96      0.96      0.96        45\n",
      "\n"
     ]
    }
   ],
   "source": [
    "# train the Naïve Bayes model print(\"[INFO] using '{}' model\".format(“naive_bayes\")) \n",
    "model = models[\"naive_bayes\"] \n",
    "model.fit(trainX, trainY)\n",
    "\n",
    "# make predictions on our data and show a classification report \n",
    "print(\"[INFO] evaluating...\")\n",
    "predictions = model.predict(testX) \n",
    "print(classification_report(testY, predictions, target_names=dataset.target_names))"
   ]
  },
  {
   "cell_type": "code",
   "execution_count": 15,
   "metadata": {},
   "outputs": [
    {
     "name": "stdout",
     "output_type": "stream",
     "text": [
      "[INFO] evaluating...\n",
      "              precision    recall  f1-score   support\n",
      "\n",
      "     class_0       1.00      0.89      0.94        18\n",
      "     class_1       0.85      0.94      0.89        18\n",
      "     class_2       0.89      0.89      0.89         9\n",
      "\n",
      "    accuracy                           0.91        45\n",
      "   macro avg       0.91      0.91      0.91        45\n",
      "weighted avg       0.92      0.91      0.91        45\n",
      "\n"
     ]
    },
    {
     "name": "stderr",
     "output_type": "stream",
     "text": [
      "C:\\Users\\labdas.DESKTOP-PR1HO9I\\AppData\\Roaming\\Python\\Python35\\site-packages\\sklearn\\linear_model\\logistic.py:947: ConvergenceWarning: lbfgs failed to converge. Increase the number of iterations.\n",
      "  \"of iterations.\", ConvergenceWarning)\n"
     ]
    }
   ],
   "source": [
    "# train the Logistic Regression model print(\"[INFO] using '{}' model\".format(\"logit\")) \n",
    "model = models[\"logit\"] \n",
    "model.fit(trainX, trainY)\n",
    "\n",
    "# make predictions on our data and show a classification report \n",
    "print(\"[INFO] evaluating...\") \n",
    "predictions = model.predict(testX) \n",
    "print(classification_report(testY, predictions, target_names=dataset.target_names))\n"
   ]
  },
  {
   "cell_type": "code",
   "execution_count": 16,
   "metadata": {},
   "outputs": [
    {
     "name": "stdout",
     "output_type": "stream",
     "text": [
      "[INFO] evaluating...\n",
      "              precision    recall  f1-score   support\n",
      "\n",
      "     class_0       1.00      1.00      1.00        18\n",
      "     class_1       1.00      0.94      0.97        18\n",
      "     class_2       0.90      1.00      0.95         9\n",
      "\n",
      "    accuracy                           0.98        45\n",
      "   macro avg       0.97      0.98      0.97        45\n",
      "weighted avg       0.98      0.98      0.98        45\n",
      "\n"
     ]
    }
   ],
   "source": [
    "# train the Random Forest model print(\"[INFO] using '{}' model\".format(\"random_forest\")) \n",
    "model = models[\"random_forest\"] \n",
    "model.fit(trainX, trainY)\n",
    "# make predictions on our data and show a classification report \n",
    "print(\"[INFO] evaluating...\") \n",
    "predictions = model.predict(testX) \n",
    "print(classification_report(testY, predictions, target_names=dataset.target_names))\n"
   ]
  },
  {
   "cell_type": "code",
   "execution_count": 17,
   "metadata": {},
   "outputs": [
    {
     "name": "stdout",
     "output_type": "stream",
     "text": [
      "[INFO] extracting image features...\n"
     ]
    },
    {
     "ename": "NameError",
     "evalue": "name 'paths' is not defined",
     "output_type": "error",
     "traceback": [
      "\u001b[1;31m---------------------------------------------------------------------------\u001b[0m",
      "\u001b[1;31mNameError\u001b[0m                                 Traceback (most recent call last)",
      "\u001b[1;32m<ipython-input-17-40dd722eebe0>\u001b[0m in \u001b[0;36m<module>\u001b[1;34m\u001b[0m\n\u001b[0;32m      2\u001b[0m \u001b[1;31m# list of extracted features and corresponding labels\u001b[0m\u001b[1;33m\u001b[0m\u001b[1;33m\u001b[0m\u001b[0m\n\u001b[0;32m      3\u001b[0m \u001b[0mprint\u001b[0m\u001b[1;33m(\u001b[0m\u001b[1;34m\"[INFO] extracting image features...\"\u001b[0m\u001b[1;33m)\u001b[0m\u001b[1;33m\u001b[0m\u001b[0m\n\u001b[1;32m----> 4\u001b[1;33m \u001b[0mimagePaths\u001b[0m \u001b[1;33m=\u001b[0m \u001b[0mpaths\u001b[0m\u001b[1;33m.\u001b[0m\u001b[0mlist_images\u001b[0m\u001b[1;33m(\u001b[0m\u001b[0margs\u001b[0m\u001b[1;33m[\u001b[0m\u001b[1;34m\"dataset\"\u001b[0m\u001b[1;33m]\u001b[0m\u001b[1;33m)\u001b[0m\u001b[1;33m\u001b[0m\u001b[0m\n\u001b[0m\u001b[0;32m      5\u001b[0m \u001b[0mdata\u001b[0m \u001b[1;33m=\u001b[0m \u001b[1;33m[\u001b[0m\u001b[1;33m]\u001b[0m\u001b[1;33m\u001b[0m\u001b[0m\n\u001b[0;32m      6\u001b[0m \u001b[0mlabels\u001b[0m \u001b[1;33m=\u001b[0m \u001b[1;33m[\u001b[0m\u001b[1;33m]\u001b[0m\u001b[1;33m\u001b[0m\u001b[0m\n",
      "\u001b[1;31mNameError\u001b[0m: name 'paths' is not defined"
     ]
    }
   ],
   "source": []
  },
  {
   "cell_type": "code",
   "execution_count": null,
   "metadata": {},
   "outputs": [],
   "source": []
  }
 ],
 "metadata": {
  "kernelspec": {
   "display_name": "Python 3",
   "language": "python",
   "name": "python3"
  },
  "language_info": {
   "codemirror_mode": {
    "name": "ipython",
    "version": 3
   },
   "file_extension": ".py",
   "mimetype": "text/x-python",
   "name": "python",
   "nbconvert_exporter": "python",
   "pygments_lexer": "ipython3",
   "version": "3.5.4"
  }
 },
 "nbformat": 4,
 "nbformat_minor": 2
}
